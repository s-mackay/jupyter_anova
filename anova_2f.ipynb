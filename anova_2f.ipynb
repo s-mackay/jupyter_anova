{
 "cells": [
  {
   "cell_type": "code",
   "execution_count": 89,
   "metadata": {},
   "outputs": [
    {
     "data": {
      "text/html": [
       "<script>requirejs.config({paths: { 'plotly': ['https://cdn.plot.ly/plotly-latest.min']},});if(!window.Plotly) {{require(['plotly'],function(plotly) {window.Plotly=plotly;});}}</script>"
      ],
      "text/vnd.plotly.v1+html": [
       "<script>requirejs.config({paths: { 'plotly': ['https://cdn.plot.ly/plotly-latest.min']},});if(!window.Plotly) {{require(['plotly'],function(plotly) {window.Plotly=plotly;});}}</script>"
      ]
     },
     "metadata": {},
     "output_type": "display_data"
    }
   ],
   "source": [
    "import scipy.io\n",
    "import pandas as pd\n",
    "import numpy as np\n",
    "from itertools import chain\n",
    "#import matplotlib.pyplot as plt\n",
    "from scipy import stats\n",
    "import statsmodels.api as sm\n",
    "from statsmodels.formula.api import ols\n",
    "from statsmodels.stats.anova import anova_lm\n",
    "from statsmodels.graphics.factorplots import interaction_plot\n",
    "from plotly import __version__\n",
    "from plotly.offline import download_plotlyjs, init_notebook_mode, plot, iplot\n",
    "import plotly.graph_objs\n",
    "from plotly.graph_objs import Bar\n",
    "import plotly.plotly as py\n",
    "init_notebook_mode(connected=True)\n",
    "import cufflinks as cf\n",
    "from ipywidgets import *"
   ]
  },
  {
   "cell_type": "code",
   "execution_count": 90,
   "metadata": {
    "scrolled": true
   },
   "outputs": [],
   "source": [
    "# load data\n",
    "f_a = scipy.io.loadmat('../data/anova_mat.mat')\n",
    "n_units = f_a['anova_cell'].shape[0]\n",
    "infomat = f_a['infomat']\n",
    "p_vals = np.zeros((n_units, 7))\n",
    "p_vals[:,:4] = infomat[:,:4].astype(int)\n",
    "locs = infomat[:,9]\n",
    "# loop through all units \n",
    "for unit in range(n_units):\n",
    "    frame_dict = {'y': np.array(list(chain.from_iterable(f_a['anova_cell'][unit][0]))), # firing rate \n",
    "                 'f1': np.array(list(chain.from_iterable(f_a['anova_cell'][unit][1]))), # mem\n",
    "                 'f2': np.array(list(chain.from_iterable(f_a['anova_cell'][unit][2])))} # stimulus id\n",
    "    data = pd.DataFrame(data=frame_dict, index = range(len(frame_dict['y'])))\n",
    "    #print(type(data))\n",
    "    \n",
    "    fr_lm = ols(formula='y ~ C(f1)*C(f2)', data=data).fit()\n",
    "    #print (fr_lm.summary())\n",
    "    aov_table = sm.stats.anova_lm(fr_lm, typ=2)\n",
    "    aov_table = aov_table.rename(columns={\"PR(>F)\": \"p\"})      \n",
    "   # print(aov_table)\n",
    "    \n",
    "    #aov_table = anova_2f(data)\n",
    "   # print(aov_table)\n",
    "    p_vals[unit, 4] = aov_table.p[0] # success of encoding\n",
    "    p_vals[unit, 5] = aov_table.p[1] # simulus ID\n",
    "    p_vals[unit, 6] = aov_table.p[2] # interaction\n",
    "        \n",
    "    resFrame = pd.DataFrame(p_vals, columns = ['patient', 'session', 'channel', 'cluster', 'p_mem', 'p_stim', 'p_interaction'])\n",
    "    \n",
    "    #p_vals[unit, 4] = aov_table['p'][0] # success of encoding\n",
    "    #p_vals[unit, 5] = aov_table['p'][1] # simulus ID\n",
    "    #p_vals[unit, 6] = aov_table['p'][2] # interaction\n",
    "        \n",
    "\n"
   ]
  },
  {
   "cell_type": "code",
   "execution_count": 107,
   "metadata": {},
   "outputs": [],
   "source": [
    "alpha_x_1e4 = 0\n",
    "def anova_plot(alpha_x_1e4, min_fr=0):# for locations: total, amy, hip, \n",
    "    #print(infomat.shape)\n",
    "    do_only=(infomat[:,13] > min_fr)\n",
    "    infomat_=infomat[do_only, :]\n",
    "    print(infomat_.shape)\n",
    "    infomat = infomat_\n",
    "    alpha = alpha_x_1e4/1e4\n",
    "    column_labels = ['total', 'amygdala', 'hippocampus', 'EC', 'PHC']\n",
    "    alpha = .05\n",
    "    n_units = np.zeros(5)\n",
    "    n_sign  = np.zeros((3, 5))\n",
    "    total_reg = sum(infomat[:,9]>0) #total units in valid regions\n",
    "    n_units[0]  = total_reg\n",
    "    #  np.logical_and => AttributeError: 'module' object has no attribute 'logial_and'\n",
    "    n_sign[0,0] = (sum(infomat[j,9]>0 and p_vals[j,4]<alpha for j in range(len(p_vals))))/n_units[0]\n",
    "    n_sign[1,0] = (sum(infomat[j,9]>0 and p_vals[j,5]<alpha for j in range(len(p_vals))))/n_units[0]\n",
    "    n_sign[2,0] = (sum(infomat[j,9]>0 and p_vals[j,6]<alpha for j in range(len(p_vals))))/n_units[0]\n",
    "\n",
    "    for i in range(4): # locations 1-4, beginning in column2 after 'total'\n",
    "        n_units[i+1]  = sum(infomat[:,9] == i+1)\n",
    "        n_sign[0,i+1] = (sum(infomat[j,9]==i+1 and p_vals[j,4]<alpha for j in range(len(p_vals))))/n_units[i+1]\n",
    "        n_sign[1,i+1] = (sum(infomat[j,9]==i+1 and p_vals[j,5]<alpha for j in range(len(p_vals))))/n_units[i+1]\n",
    "        n_sign[2,i+1] = (sum(infomat[j,9]==i+1 and p_vals[j,6]<alpha for j in range(len(p_vals))))/n_units[i+1]\n",
    "    print([n_sign]) \n",
    "\n",
    "    # prep data for bar plot\n",
    "    n_units = np.zeros(5)\n",
    "    bar_widths = np.zeros(5)\n",
    "    width_factor = .5\n",
    "    bar_widths[0]=1*width_factor\n",
    "    n_sign  = np.zeros((3, 5))\n",
    "    total_reg = sum(infomat[:,9]>0) #total units in valid regions\n",
    "    n_units[0]  = total_reg\n",
    "    #  np.logical_and => AttributeError: 'module' object has no attribute 'logial_and'\n",
    "    n_sign[0,0] = (sum(infomat[j,9]>0 and p_vals[j,4]<alpha for j in range(len(p_vals))))/n_units[0]\n",
    "    n_sign[1,0] = (sum(infomat[j,9]>0 and p_vals[j,5]<alpha for j in range(len(p_vals))))/n_units[0]\n",
    "    n_sign[2,0] = (sum(infomat[j,9]>0 and p_vals[j,6]<alpha for j in range(len(p_vals))))/n_units[0]\n",
    "\n",
    "    for i in range(4): # locations 1-4, beginning in column2 after 'total'\n",
    "        n_units[i+1]  = sum(infomat[:,9] == i+1)\n",
    "        bar_widths[i+1]= n_units[i+1]/n_units[0]*width_factor\n",
    "        print([n_units[i+1],n_units[0], n_units[i+1]/n_units[0]])\n",
    "        n_sign[0,i+1] = (sum(infomat[j,9]==i+1 and p_vals[j,4]<alpha for j in range(len(p_vals))))/n_units[i+1]\n",
    "        n_sign[1,i+1] = (sum(infomat[j,9]==i+1 and p_vals[j,5]<alpha for j in range(len(p_vals))))/n_units[i+1]\n",
    "        n_sign[2,i+1] = (sum(infomat[j,9]==i+1 and p_vals[j,6]<alpha for j in range(len(p_vals))))/n_units[i+1]\n",
    "    #print(bar_widths) \n",
    "\n",
    "    # create bar plot\n",
    "\n",
    "    init_notebook_mode(connected=True)\n",
    "    col_names = ['total', 'amygdala', 'hippocampus', 'EC', 'PHC']\n",
    "    col_names = [1, 3, 4, 5, 6]\n",
    "    cf.go_offline()\n",
    "    plotly.offline.init_notebook_mode()\n",
    "    #n_sign_df = pd.DataFrame(n_sign, columns = col_names)\n",
    "    #print(bar_widths)\n",
    "    trace1 = plotly.graph_objs.Bar(x = col_names, y = n_sign[0,:], name = 'main effect memory', width = bar_widths,\n",
    "                                   offset = -1.5*bar_widths)\n",
    "    trace2 = plotly.graph_objs.Bar(x = col_names, y = n_sign[1,:], name = 'main effect stimulus', width = bar_widths)\n",
    "    trace3 = plotly.graph_objs.Bar(x = col_names, y = n_sign[2,:], name = 'interaction', width = bar_widths,\n",
    "                                  offset = 0.5*bar_widths)\n",
    "    bar_data = [trace1, trace2, trace3]\n",
    "    title_text = 'total n='+str(total_reg)\n",
    "    layout = plotly.graph_objs.Layout(barmode='group',title = 'total n = '+str(total_reg), xaxis=dict(title=\n",
    "         '                 total                                      amygdala        hippocampus            EC                 PHC'))\n",
    "    fig = plotly.graph_objs.Figure(data = bar_data, layout = layout)\n",
    "    #plot(fig, filename='groupedBar')\n",
    "    iplot(fig, filename='groupedBar')"
   ]
  },
  {
   "cell_type": "code",
   "execution_count": 108,
   "metadata": {},
   "outputs": [
    {
     "data": {
      "application/vnd.jupyter.widget-view+json": {
       "model_id": "37dc8e9615b7488f93f3a208dc7cf1a8",
       "version_major": 2,
       "version_minor": 0
      },
      "text/plain": [
       "A Jupyter Widget"
      ]
     },
     "metadata": {},
     "output_type": "display_data"
    },
    {
     "data": {
      "text/plain": [
       "<function __main__.anova_plot>"
      ]
     },
     "execution_count": 108,
     "metadata": {},
     "output_type": "execute_result"
    }
   ],
   "source": [
    "interact(anova_plot, alpha_x_1e4=1)"
   ]
  },
  {
   "cell_type": "code",
   "execution_count": null,
   "metadata": {},
   "outputs": [],
   "source": []
  },
  {
   "cell_type": "code",
   "execution_count": null,
   "metadata": {},
   "outputs": [],
   "source": []
  },
  {
   "cell_type": "code",
   "execution_count": null,
   "metadata": {},
   "outputs": [],
   "source": []
  }
 ],
 "metadata": {
  "kernelspec": {
   "display_name": "justPython",
   "language": "python",
   "name": "justpython"
  },
  "language_info": {
   "codemirror_mode": {
    "name": "ipython",
    "version": 2
   },
   "file_extension": ".py",
   "mimetype": "text/x-python",
   "name": "python",
   "nbconvert_exporter": "python",
   "pygments_lexer": "ipython2",
   "version": "2.7.13"
  }
 },
 "nbformat": 4,
 "nbformat_minor": 2
}
